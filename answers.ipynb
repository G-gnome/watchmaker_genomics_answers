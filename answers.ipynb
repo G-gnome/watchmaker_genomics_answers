{
 "cells": [
  {
   "cell_type": "markdown",
   "metadata": {},
   "source": [
    "Question 1: Computing GC Content\n",
    "\n",
    "The GC-content of a DNA string is given by the percentage of symbols in the string that are 'C' or 'G'. For example, the GC-content of \"AGCTATAG\" is 37.5%. Note that the reverse complement of any DNA string has the same GC-content.\n",
    "\n",
    "DNA strings must be labeled when they are consolidated into a database. A commonly used method of string labeling is called FASTA format. In this format, the string is introduced by a line that begins with '>', followed by some labeling information. Subsequent lines contain the string itself; the first line to begin with '>' indicates the label of the next string.\n",
    "\n",
    "In Rosalind's implementation, a string in FASTA format will be labeled by the ID \"Rosalind_xxxx\", where \"xxxx\" denotes a four-digit code between 0000 and 9999.\n",
    "\n",
    "Given: At most 10 DNA strings in FASTA format (of length at most 1 kbp each).\n",
    "\n",
    "Return: The ID of the string having the highest GC-content, followed by the GC-content of that string. Rosalind allows for a default error of 0.001 in all decimal answers unless otherwise stated; please see the note on absolute error below.\n",
    "\n"
   ]
  },
  {
   "cell_type": "code",
   "execution_count": 2,
   "metadata": {},
   "outputs": [
    {
     "name": "stdout",
     "output_type": "stream",
     "text": [
      "Rosalind_0808\n",
      "60.919540\n"
     ]
    }
   ],
   "source": [
    "path = './test.fasta'\n",
    "\n",
    "counts = {}\n",
    "seq = ''\n",
    "label = ''\n",
    "with open(path, 'r') as f:\n",
    "    for line in f:\n",
    "        line = line.strip()\n",
    "        if line[0] == '>': # Header line\n",
    "            if label and seq: # if label and seq exist calculate gc\n",
    "                gc = (seq.count('G') + seq.count('C')) / len(seq) * 100\n",
    "                counts[label] = gc # add to dictionary\n",
    "            label = line[1:] # remove the >\n",
    "            seq = '' # reinitialize seq\n",
    "        else:\n",
    "            seq += line \n",
    " # get the last sequence\n",
    "    if label and seq:\n",
    "        gc = (seq.count('G') + seq.count('C')) / len(seq) * 100\n",
    "        counts[label] = gc\n",
    "\n",
    "max_id = max(counts, key=counts.get)\n",
    "print(max_id) \n",
    "print(f\"{counts[max_id]:.6f}\") # return the max value with only 6 decimal places"
   ]
  },
  {
   "cell_type": "markdown",
   "metadata": {},
   "source": [
    "Question 2: Sex-Linked Inheritance\n",
    "\n",
    "The conditional probability of an event A\n",
    " given another event B\n",
    ", written Pr(A∣B)\n",
    ", is equal to Pr(A and B)\n",
    " divided by Pr(B)\n",
    ".\n",
    "\n",
    "Note that if A\n",
    " and B\n",
    " are independent, then Pr(A and B)\n",
    " must be equal to Pr(A)×Pr(B)\n",
    ", which results in Pr(A∣B)=Pr(A)\n",
    ". This equation offers an intuitive view of independence: the probability of A\n",
    ", given the occurrence of event B\n",
    ", is simply the probability of A\n",
    " (which does not depend on B\n",
    ").\n",
    "\n",
    "In the context of sex-linked traits, genetic equilibrium requires that the alleles for a gene k\n",
    " are uniformly distributed over the males and females of a population. In other words, the distribution of alleles is independent of sex.\n",
    "\n",
    "Given: An array A\n",
    " of length n\n",
    " for which A[k]\n",
    " represents the proportion of males in a population exhibiting the k\n",
    "-th of n\n",
    " total recessive X-linked genes. Assume that the population is in genetic equilibrium for all n\n",
    " genes.\n",
    "\n",
    "Return: An array B\n",
    " of length n\n",
    " in which B[k]\n",
    " equals the probability that a randomly selected female will be a carrier for the k\n",
    "-th gene."
   ]
  },
  {
   "cell_type": "code",
   "execution_count": null,
   "metadata": {},
   "outputs": [
    {
     "name": "stdout",
     "output_type": "stream",
     "text": [
      "[0.18, 0.5, 0.32]\n"
     ]
    }
   ],
   "source": [
    "A = [0.1, .5, .8] # list of allele frequencies\n",
    "B = [] # list of carrier frequencies\n",
    "for k in A:\n",
    "    Bk = 2 * k * (1 - k) # Hardy-Weinberg equation for carrier frequency\n",
    "    Bk = round(Bk, 2) # round to 2 decimal places\n",
    "    B.append(Bk)\n",
    "print(B)"
   ]
  }
 ],
 "metadata": {
  "kernelspec": {
   "display_name": "Python 3",
   "language": "python",
   "name": "python3"
  },
  "language_info": {
   "codemirror_mode": {
    "name": "ipython",
    "version": 3
   },
   "file_extension": ".py",
   "mimetype": "text/x-python",
   "name": "python",
   "nbconvert_exporter": "python",
   "pygments_lexer": "ipython3",
   "version": "3.6.8"
  }
 },
 "nbformat": 4,
 "nbformat_minor": 2
}
